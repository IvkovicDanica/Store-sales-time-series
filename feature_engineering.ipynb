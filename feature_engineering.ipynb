{
 "cells": [
  {
   "cell_type": "code",
   "execution_count": 1,
   "metadata": {},
   "outputs": [],
   "source": [
    "import matplotlib.pyplot as plt\n",
    "import seaborn as sns\n",
    "import numpy as np\n",
    "import pandas as pd\n",
    "import warnings\n",
    "\n",
    "warnings.filterwarnings('ignore')"
   ]
  },
  {
   "cell_type": "markdown",
   "metadata": {},
   "source": [
    "### Time based features"
   ]
  },
  {
   "cell_type": "code",
   "execution_count": 2,
   "metadata": {},
   "outputs": [],
   "source": [
    "# Time Related Features\n",
    "def create_date_features(df: pd.DataFrame):\n",
    "    df['month'] = df.date.dt.month.astype('int8')\n",
    "    df['day_of_month'] = df.date.dt.day.astype('int8')\n",
    "    df['day_of_year'] = df.date.dt.dayofyear.astype('int16')\n",
    "    df['week_of_month'] = (df.date.apply(lambda d: (d.day-1) // 7 + 1)).astype('int8')\n",
    "    df['week_of_year'] = (df.date.dt.isocalendar().week()).astype('int8')\n",
    "    df['day_of_week'] = (df.date.dt.dayofweek + 1).astype('int8') # since our transactions/sales depend on day of the week this feature will capture seasonality\n",
    "    df['year'] = df.date.dt.year.astype('int32')\n",
    "    df['is_wknd'] = (df.date.dt.weekday // 4).astype('int8')\n",
    "    df['quarter'] = df.date.dt.quarter.astype('int8')\n",
    "    df['is_month_start'] = df.date.dt.is_month_start.astype('int8')\n",
    "    df['is_month_end'] = df.date.dt.is_month_end.astype('int8')\n",
    "    df['is_quarter_start'] = df.date.dt.is_quarter_start.astype('int8')\n",
    "    df['is_quarter_end'] = df.date.dt.is_quarter_end.astype('int8')\n",
    "    df['is_year_start'] = df.date.dt.is_year_start.astype('int8')\n",
    "    df['is_year_end'] = df.date.dt.is_year_end.astype('int8')\n",
    "    df[\"date_index\"] = df.date.factorize()[0]\n",
    "    return df"
   ]
  },
  {
   "cell_type": "markdown",
   "metadata": {},
   "source": [
    "### Work related features"
   ]
  },
  {
   "cell_type": "code",
   "execution_count": 4,
   "metadata": {},
   "outputs": [],
   "source": [
    "def create_work_related_features(df: pd.DataFrame):\n",
    "    df['workday'] = np.where((df.holiday_national_binary == 1) | (df.holiday_local_binary==1) | (df.holiday_regional_binary==1) | (df['day_of_week'].isin([6,7])), 0, 1)\n",
    "    df['workday'] = pd.Series(np.where(df.IsWorkDay.notnull(), 1, df['workday'])).astype('int8')\n",
    "    df.drop('IsWorkDay', axis = 1, inplace = True)\n",
    "    df['wageday'] = pd.Series(np.where((df['is_month_end'] == 1) | (df['day_of_month'] == 15), 1, 0)).astype('int8')\n",
    "    return df"
   ]
  },
  {
   "cell_type": "markdown",
   "metadata": {},
   "source": [
    "### Holiday features"
   ]
  },
  {
   "cell_type": "code",
   "execution_count": 71,
   "metadata": {},
   "outputs": [],
   "source": [
    "from functools import cache\n",
    "\n",
    "@cache\n",
    "def days_to_holiday(date, holidays, from_holiday=True):\n",
    "    days_diff = (date - holidays) if from_holiday else (holidays - date)\n",
    "    nearest_days = np.min(np.abs(days_diff))\n",
    "    return nearest_days\n",
    "\n",
    "\n",
    "def create_holiday_features(df: pd.DataFrame, df_holidays: pd.DataFrame):\n",
    "    df['day_to_nearest_holiday'] = df['date'].apply(lambda x: days_to_holiday(x, df_holidays['date']))\n",
    "    df['day_from_nearest_holiday'] = df['date'].apply(lambda x: days_to_holiday(x, df_holidays['date'],  from_holiday=False))\n",
    "    return df  "
   ]
  }
 ],
 "metadata": {
  "kernelspec": {
   "display_name": "Python 3",
   "language": "python",
   "name": "python3"
  },
  "language_info": {
   "codemirror_mode": {
    "name": "ipython",
    "version": 3
   },
   "file_extension": ".py",
   "mimetype": "text/x-python",
   "name": "python",
   "nbconvert_exporter": "python",
   "pygments_lexer": "ipython3",
   "version": "3.10.11"
  }
 },
 "nbformat": 4,
 "nbformat_minor": 2
}
