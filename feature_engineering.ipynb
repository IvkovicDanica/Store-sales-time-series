{
 "cells": [
  {
   "cell_type": "code",
   "execution_count": 1,
   "metadata": {},
   "outputs": [],
   "source": [
    "import matplotlib.pyplot as plt\n",
    "import seaborn as sns\n",
    "import numpy as np\n",
    "import pandas as pd\n",
    "from utils import plot_boxplot, get_seasonality_trend_overview, plot_period_mean, plot_periodogram\n",
    "import warnings\n",
    "import statsmodels.api as sm\n",
    "from statsmodels.tsa.deterministic import CalendarFourier, DeterministicProcess\n",
    "\n",
    "pd.set_option('display.max_columns', None)\n",
    "warnings.filterwarnings('ignore')"
   ]
  },
  {
   "cell_type": "markdown",
   "metadata": {},
   "source": [
    "### Time based features"
   ]
  },
  {
   "cell_type": "code",
   "execution_count": 2,
   "metadata": {},
   "outputs": [],
   "source": [
    "# Time Related Features\n",
    "def create_date_features(df: pd.DataFrame):\n",
    "    df['month'] = df.date.dt.month.astype('int8')\n",
    "    df['day_of_month'] = df.date.dt.day.astype('int8')\n",
    "    df['day_of_year'] = df.date.dt.dayofyear.astype('int16')\n",
    "    df['week_of_month'] = (df.date.apply(lambda d: (d.day-1) // 7 + 1)).astype('int8')\n",
    "    df['week_of_year'] = (df.date.dt.isocalendar().week()).astype('int8')\n",
    "    df['day_of_week'] = (df.date.dt.dayofweek + 1).astype('int8') # since our transactions/sales depend on day of the week this feature will capture seasonality\n",
    "    df['year'] = df.date.dt.year.astype('int32')\n",
    "    df['is_wknd'] = (df.date.dt.weekday // 4).astype('int8')\n",
    "    df['quarter'] = df.date.dt.quarter.astype('int8')\n",
    "    df['is_month_start'] = df.date.dt.is_month_start.astype('int8')\n",
    "    df['is_month_end'] = df.date.dt.is_month_end.astype('int8')\n",
    "    df['is_quarter_start'] = df.date.dt.is_quarter_start.astype('int8')\n",
    "    df['is_quarter_end'] = df.date.dt.is_quarter_end.astype('int8')\n",
    "    df['is_year_start'] = df.date.dt.is_year_start.astype('int8')\n",
    "    df['is_year_end'] = df.date.dt.is_year_end.astype('int8')\n",
    "    df[\"date_index\"] = df.date.factorize()[0]\n",
    "    # 0: Winter - 1: Spring - 2: Summer - 3: Fall\n",
    "    df['season'] = np.where(df.month.isin([12,1,2]), 0, 1)\n",
    "    df['season'] = np.where(df.month.isin([6,7,8]), 2, df['season'])\n",
    "    df['season'] = pd.Series(np.where(df.month.isin([9, 10, 11]), 3, df['season'])).astype('int8')\n",
    "    return df"
   ]
  },
  {
   "cell_type": "markdown",
   "metadata": {},
   "source": [
    "### Work related features"
   ]
  },
  {
   "cell_type": "code",
   "execution_count": 4,
   "metadata": {},
   "outputs": [],
   "source": [
    "def create_work_related_features(df: pd.DataFrame):\n",
    "    df['workday'] = np.where((df.holiday_national_binary == 1) | (df.holiday_local_binary==1) | (df.holiday_regional_binary==1) | (df['day_of_week'].isin([6,7])), 0, 1)\n",
    "    df['workday'] = pd.Series(np.where(df.IsWorkDay.notnull(), 1, df['workday'])).astype('int8')\n",
    "    df.drop('IsWorkDay', axis = 1, inplace = True)\n",
    "    df['wageday'] = pd.Series(np.where((df['is_month_end'] == 1) | (df['day_of_month'] == 15), 1, 0)).astype('int8')\n",
    "    return df"
   ]
  },
  {
   "cell_type": "markdown",
   "metadata": {},
   "source": [
    "### Moving Average features"
   ]
  },
  {
   "cell_type": "code",
   "execution_count": 5,
   "metadata": {},
   "outputs": [],
   "source": [
    "def create_moving_average_features(df: pd.DataFrame):\n",
    "    a = df.sort_values([\"store_nbr\", \"family\", \"date\"])\n",
    "    for i in [20, 30, 45, 60, 90, 120, 365, 730]:\n",
    "        a[\"SMA\"+str(i)+\"_sales_lag16\"] = a.groupby([\"store_nbr\", \"family\"]).rolling(i).sales.mean().shift(16).values\n",
    "        a[\"SMA\"+str(i)+\"_sales_lag30\"] = a.groupby([\"store_nbr\", \"family\"]).rolling(i).sales.mean().shift(30).values\n",
    "        a[\"SMA\"+str(i)+\"_sales_lag60\"] = a.groupby([\"store_nbr\", \"family\"]).rolling(i).sales.mean().shift(60).values"
   ]
  },
  {
   "cell_type": "markdown",
   "metadata": {},
   "source": [
    "### Lag features"
   ]
  },
  {
   "cell_type": "code",
   "execution_count": 6,
   "metadata": {},
   "outputs": [],
   "source": [
    "#16, 17, 18, 19, 20, 30, 365, 730\n",
    "def create_lag_features(ts: pd.DataFrame, lags: int):\n",
    "    return pd.concat(\n",
    "        {\n",
    "            f'y_lag_{i}': ts.shift(i)\n",
    "            for i in range(1, lags + 1)\n",
    "        },\n",
    "        axis=1)"
   ]
  },
  {
   "cell_type": "markdown",
   "metadata": {},
   "source": [
    "### Holiday features"
   ]
  },
  {
   "cell_type": "code",
   "execution_count": 71,
   "metadata": {},
   "outputs": [],
   "source": [
    "from functools import cache\n",
    "\n",
    "@cache\n",
    "def days_to_holiday(date, holidays, from_holiday=True):\n",
    "    days_diff = (date - holidays) if from_holiday else (holidays - date)\n",
    "    nearest_days = np.min(np.abs(days_diff))\n",
    "    return nearest_days\n",
    "\n",
    "\n",
    "def create_holiday_features(df: pd.DataFrame, df_holidays: pd.DataFrame):\n",
    "    df['day_to_nearest_holiday'] = df['date'].apply(lambda x: days_to_holiday(x, df_holidays['date']))\n",
    "    df['day_from_nearest_holiday'] = df['date'].apply(lambda x: days_to_holiday(x, df_holidays['date'],  from_holiday=False))\n",
    "    return df  "
   ]
  },
  {
   "cell_type": "markdown",
   "metadata": {},
   "source": [
    "### Zero forecasting"
   ]
  },
  {
   "cell_type": "code",
   "execution_count": null,
   "metadata": {},
   "outputs": [],
   "source": []
  },
  {
   "cell_type": "markdown",
   "metadata": {},
   "source": [
    "### Oil features"
   ]
  },
  {
   "cell_type": "code",
   "execution_count": null,
   "metadata": {},
   "outputs": [],
   "source": [
    "def create_oil_features(df: pd.DataFrame):\n",
    "    n_lags = 3\n",
    "    for l in range(1, n_lags + 1):\n",
    "        df[f'oil_lags{l}'] = df.avg_oil.shift(l)"
   ]
  },
  {
   "cell_type": "code",
   "execution_count": null,
   "metadata": {},
   "outputs": [],
   "source": []
  }
 ],
 "metadata": {
  "kernelspec": {
   "display_name": "Python 3",
   "language": "python",
   "name": "python3"
  },
  "language_info": {
   "codemirror_mode": {
    "name": "ipython",
    "version": 3
   },
   "file_extension": ".py",
   "mimetype": "text/x-python",
   "name": "python",
   "nbconvert_exporter": "python",
   "pygments_lexer": "ipython3",
   "version": "3.10.11"
  }
 },
 "nbformat": 4,
 "nbformat_minor": 2
}
