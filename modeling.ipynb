{
 "cells": [
  {
   "cell_type": "code",
   "execution_count": 4,
   "metadata": {},
   "outputs": [],
   "source": [
    "import numpy as np\n",
    "import pandas as pd\n",
    "\n",
    "pd.set_option('display.max_columns', None)"
   ]
  },
  {
   "cell_type": "code",
   "execution_count": 5,
   "metadata": {},
   "outputs": [
    {
     "data": {
      "text/html": [
       "<div>\n",
       "<style scoped>\n",
       "    .dataframe tbody tr th:only-of-type {\n",
       "        vertical-align: middle;\n",
       "    }\n",
       "\n",
       "    .dataframe tbody tr th {\n",
       "        vertical-align: top;\n",
       "    }\n",
       "\n",
       "    .dataframe thead th {\n",
       "        text-align: right;\n",
       "    }\n",
       "</style>\n",
       "<table border=\"1\" class=\"dataframe\">\n",
       "  <thead>\n",
       "    <tr style=\"text-align: right;\">\n",
       "      <th></th>\n",
       "      <th>Unnamed: 0.2</th>\n",
       "      <th>Unnamed: 0.1</th>\n",
       "      <th>Unnamed: 0</th>\n",
       "      <th>date</th>\n",
       "      <th>store_nbr</th>\n",
       "      <th>family</th>\n",
       "      <th>id</th>\n",
       "      <th>sales</th>\n",
       "      <th>onpromotion</th>\n",
       "      <th>transactions</th>\n",
       "      <th>oil</th>\n",
       "      <th>city</th>\n",
       "      <th>state</th>\n",
       "      <th>type</th>\n",
       "      <th>cluster</th>\n",
       "      <th>work_day</th>\n",
       "      <th>nat_terremoto</th>\n",
       "      <th>nat_navidad</th>\n",
       "      <th>nat_dia la madre</th>\n",
       "      <th>nat_dia trabajo</th>\n",
       "      <th>nat_primer dia ano</th>\n",
       "      <th>nat_futbol</th>\n",
       "      <th>nat_dia difuntos</th>\n",
       "      <th>day</th>\n",
       "      <th>month</th>\n",
       "      <th>year</th>\n",
       "      <th>day_of_week</th>\n",
       "      <th>day_of_year</th>\n",
       "      <th>week_of_year</th>\n",
       "      <th>date_index</th>\n",
       "      <th>nat_batalla_de_pichincha</th>\n",
       "      <th>nat_carnaval</th>\n",
       "      <th>nat_cyber_monday</th>\n",
       "      <th>nat_independencia_de_cuenca</th>\n",
       "      <th>nat_independencia_de_guayaquil</th>\n",
       "      <th>n_viernes_santo</th>\n",
       "      <th>day_of_month</th>\n",
       "      <th>week_of_month</th>\n",
       "      <th>is_wknd</th>\n",
       "      <th>quarter</th>\n",
       "      <th>is_month_start</th>\n",
       "      <th>is_month_end</th>\n",
       "      <th>is_quarter_start</th>\n",
       "      <th>is_quarter_end</th>\n",
       "      <th>is_year_start</th>\n",
       "      <th>is_year_end</th>\n",
       "      <th>season</th>\n",
       "      <th>wageday</th>\n",
       "      <th>day_to_nearest_holiday</th>\n",
       "      <th>day_from_nearest_holiday</th>\n",
       "    </tr>\n",
       "  </thead>\n",
       "  <tbody>\n",
       "    <tr>\n",
       "      <th>0</th>\n",
       "      <td>0</td>\n",
       "      <td>0</td>\n",
       "      <td>0</td>\n",
       "      <td>2013-01-01</td>\n",
       "      <td>store_nbr_1</td>\n",
       "      <td>AUTOMOTIVE</td>\n",
       "      <td>0.0</td>\n",
       "      <td>NaN</td>\n",
       "      <td>NaN</td>\n",
       "      <td>0.0</td>\n",
       "      <td>93.14</td>\n",
       "      <td>city_quito</td>\n",
       "      <td>state_pichincha</td>\n",
       "      <td>type_D</td>\n",
       "      <td>cluster_13</td>\n",
       "      <td>0.0</td>\n",
       "      <td>0.0</td>\n",
       "      <td>0.0</td>\n",
       "      <td>0.0</td>\n",
       "      <td>0.0</td>\n",
       "      <td>1.0</td>\n",
       "      <td>0.0</td>\n",
       "      <td>0.0</td>\n",
       "      <td>1</td>\n",
       "      <td>1</td>\n",
       "      <td>2013</td>\n",
       "      <td>1</td>\n",
       "      <td>1</td>\n",
       "      <td>1</td>\n",
       "      <td>0</td>\n",
       "      <td>0</td>\n",
       "      <td>0</td>\n",
       "      <td>0</td>\n",
       "      <td>0</td>\n",
       "      <td>0</td>\n",
       "      <td>0</td>\n",
       "      <td>1</td>\n",
       "      <td>1</td>\n",
       "      <td>0</td>\n",
       "      <td>1</td>\n",
       "      <td>1</td>\n",
       "      <td>0</td>\n",
       "      <td>1</td>\n",
       "      <td>0</td>\n",
       "      <td>1</td>\n",
       "      <td>0</td>\n",
       "      <td>0</td>\n",
       "      <td>0</td>\n",
       "      <td>0</td>\n",
       "      <td>0</td>\n",
       "    </tr>\n",
       "    <tr>\n",
       "      <th>1</th>\n",
       "      <td>1</td>\n",
       "      <td>1</td>\n",
       "      <td>1</td>\n",
       "      <td>2013-01-01</td>\n",
       "      <td>store_nbr_1</td>\n",
       "      <td>BABY CARE</td>\n",
       "      <td>1.0</td>\n",
       "      <td>NaN</td>\n",
       "      <td>NaN</td>\n",
       "      <td>0.0</td>\n",
       "      <td>93.14</td>\n",
       "      <td>city_quito</td>\n",
       "      <td>state_pichincha</td>\n",
       "      <td>type_D</td>\n",
       "      <td>cluster_13</td>\n",
       "      <td>0.0</td>\n",
       "      <td>0.0</td>\n",
       "      <td>0.0</td>\n",
       "      <td>0.0</td>\n",
       "      <td>0.0</td>\n",
       "      <td>1.0</td>\n",
       "      <td>0.0</td>\n",
       "      <td>0.0</td>\n",
       "      <td>1</td>\n",
       "      <td>1</td>\n",
       "      <td>2013</td>\n",
       "      <td>1</td>\n",
       "      <td>1</td>\n",
       "      <td>1</td>\n",
       "      <td>0</td>\n",
       "      <td>0</td>\n",
       "      <td>0</td>\n",
       "      <td>0</td>\n",
       "      <td>0</td>\n",
       "      <td>0</td>\n",
       "      <td>0</td>\n",
       "      <td>1</td>\n",
       "      <td>1</td>\n",
       "      <td>0</td>\n",
       "      <td>1</td>\n",
       "      <td>1</td>\n",
       "      <td>0</td>\n",
       "      <td>1</td>\n",
       "      <td>0</td>\n",
       "      <td>1</td>\n",
       "      <td>0</td>\n",
       "      <td>0</td>\n",
       "      <td>0</td>\n",
       "      <td>0</td>\n",
       "      <td>0</td>\n",
       "    </tr>\n",
       "    <tr>\n",
       "      <th>2</th>\n",
       "      <td>2</td>\n",
       "      <td>2</td>\n",
       "      <td>2</td>\n",
       "      <td>2013-01-01</td>\n",
       "      <td>store_nbr_1</td>\n",
       "      <td>BEAUTY</td>\n",
       "      <td>2.0</td>\n",
       "      <td>NaN</td>\n",
       "      <td>NaN</td>\n",
       "      <td>0.0</td>\n",
       "      <td>93.14</td>\n",
       "      <td>city_quito</td>\n",
       "      <td>state_pichincha</td>\n",
       "      <td>type_D</td>\n",
       "      <td>cluster_13</td>\n",
       "      <td>0.0</td>\n",
       "      <td>0.0</td>\n",
       "      <td>0.0</td>\n",
       "      <td>0.0</td>\n",
       "      <td>0.0</td>\n",
       "      <td>1.0</td>\n",
       "      <td>0.0</td>\n",
       "      <td>0.0</td>\n",
       "      <td>1</td>\n",
       "      <td>1</td>\n",
       "      <td>2013</td>\n",
       "      <td>1</td>\n",
       "      <td>1</td>\n",
       "      <td>1</td>\n",
       "      <td>0</td>\n",
       "      <td>0</td>\n",
       "      <td>0</td>\n",
       "      <td>0</td>\n",
       "      <td>0</td>\n",
       "      <td>0</td>\n",
       "      <td>0</td>\n",
       "      <td>1</td>\n",
       "      <td>1</td>\n",
       "      <td>0</td>\n",
       "      <td>1</td>\n",
       "      <td>1</td>\n",
       "      <td>0</td>\n",
       "      <td>1</td>\n",
       "      <td>0</td>\n",
       "      <td>1</td>\n",
       "      <td>0</td>\n",
       "      <td>0</td>\n",
       "      <td>0</td>\n",
       "      <td>0</td>\n",
       "      <td>0</td>\n",
       "    </tr>\n",
       "    <tr>\n",
       "      <th>3</th>\n",
       "      <td>3</td>\n",
       "      <td>3</td>\n",
       "      <td>3</td>\n",
       "      <td>2013-01-01</td>\n",
       "      <td>store_nbr_1</td>\n",
       "      <td>BEVERAGES</td>\n",
       "      <td>3.0</td>\n",
       "      <td>NaN</td>\n",
       "      <td>NaN</td>\n",
       "      <td>0.0</td>\n",
       "      <td>93.14</td>\n",
       "      <td>city_quito</td>\n",
       "      <td>state_pichincha</td>\n",
       "      <td>type_D</td>\n",
       "      <td>cluster_13</td>\n",
       "      <td>0.0</td>\n",
       "      <td>0.0</td>\n",
       "      <td>0.0</td>\n",
       "      <td>0.0</td>\n",
       "      <td>0.0</td>\n",
       "      <td>1.0</td>\n",
       "      <td>0.0</td>\n",
       "      <td>0.0</td>\n",
       "      <td>1</td>\n",
       "      <td>1</td>\n",
       "      <td>2013</td>\n",
       "      <td>1</td>\n",
       "      <td>1</td>\n",
       "      <td>1</td>\n",
       "      <td>0</td>\n",
       "      <td>0</td>\n",
       "      <td>0</td>\n",
       "      <td>0</td>\n",
       "      <td>0</td>\n",
       "      <td>0</td>\n",
       "      <td>0</td>\n",
       "      <td>1</td>\n",
       "      <td>1</td>\n",
       "      <td>0</td>\n",
       "      <td>1</td>\n",
       "      <td>1</td>\n",
       "      <td>0</td>\n",
       "      <td>1</td>\n",
       "      <td>0</td>\n",
       "      <td>1</td>\n",
       "      <td>0</td>\n",
       "      <td>0</td>\n",
       "      <td>0</td>\n",
       "      <td>0</td>\n",
       "      <td>0</td>\n",
       "    </tr>\n",
       "    <tr>\n",
       "      <th>4</th>\n",
       "      <td>4</td>\n",
       "      <td>4</td>\n",
       "      <td>4</td>\n",
       "      <td>2013-01-01</td>\n",
       "      <td>store_nbr_1</td>\n",
       "      <td>BOOKS</td>\n",
       "      <td>4.0</td>\n",
       "      <td>NaN</td>\n",
       "      <td>NaN</td>\n",
       "      <td>0.0</td>\n",
       "      <td>93.14</td>\n",
       "      <td>city_quito</td>\n",
       "      <td>state_pichincha</td>\n",
       "      <td>type_D</td>\n",
       "      <td>cluster_13</td>\n",
       "      <td>0.0</td>\n",
       "      <td>0.0</td>\n",
       "      <td>0.0</td>\n",
       "      <td>0.0</td>\n",
       "      <td>0.0</td>\n",
       "      <td>1.0</td>\n",
       "      <td>0.0</td>\n",
       "      <td>0.0</td>\n",
       "      <td>1</td>\n",
       "      <td>1</td>\n",
       "      <td>2013</td>\n",
       "      <td>1</td>\n",
       "      <td>1</td>\n",
       "      <td>1</td>\n",
       "      <td>0</td>\n",
       "      <td>0</td>\n",
       "      <td>0</td>\n",
       "      <td>0</td>\n",
       "      <td>0</td>\n",
       "      <td>0</td>\n",
       "      <td>0</td>\n",
       "      <td>1</td>\n",
       "      <td>1</td>\n",
       "      <td>0</td>\n",
       "      <td>1</td>\n",
       "      <td>1</td>\n",
       "      <td>0</td>\n",
       "      <td>1</td>\n",
       "      <td>0</td>\n",
       "      <td>1</td>\n",
       "      <td>0</td>\n",
       "      <td>0</td>\n",
       "      <td>0</td>\n",
       "      <td>0</td>\n",
       "      <td>0</td>\n",
       "    </tr>\n",
       "  </tbody>\n",
       "</table>\n",
       "</div>"
      ],
      "text/plain": [
       "   Unnamed: 0.2  Unnamed: 0.1  Unnamed: 0       date    store_nbr      family  \\\n",
       "0             0             0           0 2013-01-01  store_nbr_1  AUTOMOTIVE   \n",
       "1             1             1           1 2013-01-01  store_nbr_1   BABY CARE   \n",
       "2             2             2           2 2013-01-01  store_nbr_1      BEAUTY   \n",
       "3             3             3           3 2013-01-01  store_nbr_1   BEVERAGES   \n",
       "4             4             4           4 2013-01-01  store_nbr_1       BOOKS   \n",
       "\n",
       "    id  sales  onpromotion  transactions    oil        city            state  \\\n",
       "0  0.0    NaN          NaN           0.0  93.14  city_quito  state_pichincha   \n",
       "1  1.0    NaN          NaN           0.0  93.14  city_quito  state_pichincha   \n",
       "2  2.0    NaN          NaN           0.0  93.14  city_quito  state_pichincha   \n",
       "3  3.0    NaN          NaN           0.0  93.14  city_quito  state_pichincha   \n",
       "4  4.0    NaN          NaN           0.0  93.14  city_quito  state_pichincha   \n",
       "\n",
       "     type     cluster  work_day  nat_terremoto  nat_navidad  nat_dia la madre  \\\n",
       "0  type_D  cluster_13       0.0            0.0          0.0               0.0   \n",
       "1  type_D  cluster_13       0.0            0.0          0.0               0.0   \n",
       "2  type_D  cluster_13       0.0            0.0          0.0               0.0   \n",
       "3  type_D  cluster_13       0.0            0.0          0.0               0.0   \n",
       "4  type_D  cluster_13       0.0            0.0          0.0               0.0   \n",
       "\n",
       "   nat_dia trabajo  nat_primer dia ano  nat_futbol  nat_dia difuntos  day  \\\n",
       "0              0.0                 1.0         0.0               0.0    1   \n",
       "1              0.0                 1.0         0.0               0.0    1   \n",
       "2              0.0                 1.0         0.0               0.0    1   \n",
       "3              0.0                 1.0         0.0               0.0    1   \n",
       "4              0.0                 1.0         0.0               0.0    1   \n",
       "\n",
       "   month  year  day_of_week  day_of_year  week_of_year  date_index  \\\n",
       "0      1  2013            1            1             1           0   \n",
       "1      1  2013            1            1             1           0   \n",
       "2      1  2013            1            1             1           0   \n",
       "3      1  2013            1            1             1           0   \n",
       "4      1  2013            1            1             1           0   \n",
       "\n",
       "   nat_batalla_de_pichincha  nat_carnaval  nat_cyber_monday  \\\n",
       "0                         0             0                 0   \n",
       "1                         0             0                 0   \n",
       "2                         0             0                 0   \n",
       "3                         0             0                 0   \n",
       "4                         0             0                 0   \n",
       "\n",
       "   nat_independencia_de_cuenca  nat_independencia_de_guayaquil  \\\n",
       "0                            0                               0   \n",
       "1                            0                               0   \n",
       "2                            0                               0   \n",
       "3                            0                               0   \n",
       "4                            0                               0   \n",
       "\n",
       "   n_viernes_santo  day_of_month  week_of_month  is_wknd  quarter  \\\n",
       "0                0             1              1        0        1   \n",
       "1                0             1              1        0        1   \n",
       "2                0             1              1        0        1   \n",
       "3                0             1              1        0        1   \n",
       "4                0             1              1        0        1   \n",
       "\n",
       "   is_month_start  is_month_end  is_quarter_start  is_quarter_end  \\\n",
       "0               1             0                 1               0   \n",
       "1               1             0                 1               0   \n",
       "2               1             0                 1               0   \n",
       "3               1             0                 1               0   \n",
       "4               1             0                 1               0   \n",
       "\n",
       "   is_year_start  is_year_end  season  wageday  day_to_nearest_holiday  \\\n",
       "0              1            0       0        0                       0   \n",
       "1              1            0       0        0                       0   \n",
       "2              1            0       0        0                       0   \n",
       "3              1            0       0        0                       0   \n",
       "4              1            0       0        0                       0   \n",
       "\n",
       "   day_from_nearest_holiday  \n",
       "0                         0  \n",
       "1                         0  \n",
       "2                         0  \n",
       "3                         0  \n",
       "4                         0  "
      ]
     },
     "execution_count": 5,
     "metadata": {},
     "output_type": "execute_result"
    }
   ],
   "source": [
    "data = pd.read_csv(\"pre_validate.csv\", parse_dates=[\"date\"])\n",
    "data.head()"
   ]
  },
  {
   "cell_type": "code",
   "execution_count": 6,
   "metadata": {},
   "outputs": [
    {
     "name": "stderr",
     "output_type": "stream",
     "text": [
      "Extracting target series: 100%|██████████| 33/33 [01:53<00:00,  3.45s/it]\n",
      "Extracting covariates: 100%|██████████| 33/33 [02:26<00:00,  4.42s/it]\n"
     ]
    }
   ],
   "source": [
    "from darts_helper.preprocess import get_covariates, get_target_series\n",
    "\n",
    "\n",
    "# static covariates\n",
    "static_cols = [\"city\", \"state\", \"type\", \"cluster\"]\n",
    "target_dict, pipe_dict, id_dict = get_target_series(data, static_cols)\n",
    "\n",
    "selected_holidays = [\n",
    "    \"nat_terremoto\", \"nat_navidad\", \"nat_dia la madre\", \"nat_dia trabajo\",\n",
    "    \"nat_primer dia ano\", \"nat_futbol\", \"nat_dia difuntos\", \"nat_batalla_de_pichincha\",\n",
    "    \"nat_carnaval\", 'nat_cyber_monday', 'nat_independencia_de_cuenca',\n",
    "    'nat_independencia_de_guayaquil', 'n_viernes_santo']\n",
    "\n",
    "time_based_to_add = ['day_of_month', 'week_of_month', 'is_wknd', 'quarter', 'is_month_start',\n",
    "       'is_month_end', 'is_quarter_start', 'is_quarter_end', 'is_year_start',\n",
    "       'is_year_end', 'season', 'wageday', 'day_to_nearest_holiday', 'day_from_nearest_holiday',\n",
    "       \"day\", \"month\", \"year\", \"day_of_week\", \"day_of_year\", \"week_of_year\", \"date_index\", \"work_day\"]\n",
    "\n",
    "# past covariates\n",
    "past_cols = [\"transactions\"]\n",
    "\n",
    "# future covariates\n",
    "future_cols = [\n",
    "    \"oil\", \"onpromotion\", *selected_holidays, *time_based_to_add\n",
    "]\n",
    "\n",
    "# future covariates from computing the moving averages\n",
    "future_ma_cols = [\"oil\", \"onpromotion\"]\n",
    "\n",
    "past_dict, future_dict = get_covariates(data, past_cols, future_cols, future_ma_cols)"
   ]
  },
  {
   "cell_type": "code",
   "execution_count": 7,
   "metadata": {},
   "outputs": [],
   "source": [
    "from darts_helper.trainer import Trainer\n",
    "\n",
    "TRAINER_CONFIG = {\n",
    "    \"target_dict\": target_dict,\n",
    "    \"pipe_dict\": pipe_dict,\n",
    "    \"id_dict\": id_dict,\n",
    "    \"past_dict\": past_dict,\n",
    "    \"future_dict\": future_dict,\n",
    "    \n",
    "    # time series cross-validation using a rolling forecasting origin\n",
    "    \"forecast_horizon\": 16, # the length of the validation set\n",
    "    \"folds\": 1, # the number of training sets (setting to 1 means the standard train-validation split)\n",
    "    \n",
    "    # the number of previous days to check for zero sales; if all are zero, generate zero forecasts\n",
    "    \"zero_fc_window\": 15,\n",
    "    \n",
    "    \"static_covs\": \"keep_all\",\n",
    "    \"past_covs\": \"keep_all\",\n",
    "    \"future_covs\": \"keep_all\",\n",
    "    \"models\": []\n",
    "}\n",
    "\n",
    "trainer = Trainer(**TRAINER_CONFIG)"
   ]
  },
  {
   "cell_type": "code",
   "execution_count": 8,
   "metadata": {},
   "outputs": [
    {
     "name": "stderr",
     "output_type": "stream",
     "text": [
      "Performing validation:   0%|          | 0/33 [00:00<?, ?it/s]"
     ]
    },
    {
     "name": "stderr",
     "output_type": "stream",
     "text": [
      "Performing validation:   3%|▎         | 1/33 [00:09<05:19,  9.99s/it]"
     ]
    },
    {
     "name": "stdout",
     "output_type": "stream",
     "text": [
      "AUTOMOTIVE                 | lr: 0.50098\n"
     ]
    },
    {
     "name": "stderr",
     "output_type": "stream",
     "text": [
      "Performing validation:   6%|▌         | 2/33 [00:17<04:26,  8.59s/it]"
     ]
    },
    {
     "name": "stdout",
     "output_type": "stream",
     "text": [
      "BABY CARE                  | lr: 0.18491\n"
     ]
    },
    {
     "name": "stderr",
     "output_type": "stream",
     "text": [
      "Performing validation:   9%|▉         | 3/33 [00:25<04:07,  8.24s/it]"
     ]
    },
    {
     "name": "stdout",
     "output_type": "stream",
     "text": [
      "BEAUTY                     | lr: 0.49634\n"
     ]
    },
    {
     "name": "stderr",
     "output_type": "stream",
     "text": [
      "Performing validation:  12%|█▏        | 4/33 [00:34<04:10,  8.63s/it]"
     ]
    },
    {
     "name": "stdout",
     "output_type": "stream",
     "text": [
      "BEVERAGES                  | lr: 0.26614\n"
     ]
    },
    {
     "name": "stderr",
     "output_type": "stream",
     "text": [
      "Performing validation:  15%|█▌        | 5/33 [00:42<03:57,  8.49s/it]"
     ]
    },
    {
     "name": "stdout",
     "output_type": "stream",
     "text": [
      "BOOKS                      | lr: 0.02924\n"
     ]
    },
    {
     "name": "stderr",
     "output_type": "stream",
     "text": [
      "Performing validation:  18%|█▊        | 6/33 [00:53<04:05,  9.07s/it]"
     ]
    },
    {
     "name": "stdout",
     "output_type": "stream",
     "text": [
      "BREAD/BAKERY               | lr: 0.19180\n"
     ]
    },
    {
     "name": "stderr",
     "output_type": "stream",
     "text": [
      "Performing validation:  21%|██        | 7/33 [01:02<03:56,  9.08s/it]"
     ]
    },
    {
     "name": "stdout",
     "output_type": "stream",
     "text": [
      "CELEBRATION                | lr: 0.53101\n"
     ]
    },
    {
     "name": "stderr",
     "output_type": "stream",
     "text": [
      "Performing validation:  24%|██▍       | 8/33 [01:12<03:56,  9.44s/it]"
     ]
    },
    {
     "name": "stdout",
     "output_type": "stream",
     "text": [
      "CLEANING                   | lr: 0.32697\n"
     ]
    },
    {
     "name": "stderr",
     "output_type": "stream",
     "text": [
      "Performing validation:  27%|██▋       | 9/33 [01:23<03:56,  9.84s/it]"
     ]
    },
    {
     "name": "stdout",
     "output_type": "stream",
     "text": [
      "DAIRY                      | lr: 0.18631\n"
     ]
    },
    {
     "name": "stderr",
     "output_type": "stream",
     "text": [
      "Performing validation:  30%|███       | 10/33 [01:30<03:26,  8.98s/it]"
     ]
    },
    {
     "name": "stdout",
     "output_type": "stream",
     "text": [
      "DELI                       | lr: 0.19707\n"
     ]
    },
    {
     "name": "stderr",
     "output_type": "stream",
     "text": [
      "Performing validation:  33%|███▎      | 11/33 [01:38<03:15,  8.88s/it]"
     ]
    },
    {
     "name": "stdout",
     "output_type": "stream",
     "text": [
      "EGGS                       | lr: 0.27169\n"
     ]
    },
    {
     "name": "stderr",
     "output_type": "stream",
     "text": [
      "Performing validation:  36%|███▋      | 12/33 [01:47<03:06,  8.90s/it]"
     ]
    },
    {
     "name": "stdout",
     "output_type": "stream",
     "text": [
      "FROZEN FOODS               | lr: 0.28239\n"
     ]
    },
    {
     "name": "stderr",
     "output_type": "stream",
     "text": [
      "Performing validation:  39%|███▉      | 13/33 [01:58<03:08,  9.42s/it]"
     ]
    },
    {
     "name": "stdout",
     "output_type": "stream",
     "text": [
      "GROCERY I                  | lr: 0.21665\n"
     ]
    },
    {
     "name": "stderr",
     "output_type": "stream",
     "text": [
      "Performing validation:  42%|████▏     | 14/33 [02:07<02:57,  9.32s/it]"
     ]
    },
    {
     "name": "stdout",
     "output_type": "stream",
     "text": [
      "GROCERY II                 | lr: 0.52462\n"
     ]
    },
    {
     "name": "stderr",
     "output_type": "stream",
     "text": [
      "Performing validation:  45%|████▌     | 15/33 [02:14<02:34,  8.56s/it]"
     ]
    },
    {
     "name": "stdout",
     "output_type": "stream",
     "text": [
      "HARDWARE                   | lr: 0.51838\n"
     ]
    },
    {
     "name": "stderr",
     "output_type": "stream",
     "text": [
      "Performing validation:  48%|████▊     | 16/33 [02:20<02:13,  7.83s/it]"
     ]
    },
    {
     "name": "stdout",
     "output_type": "stream",
     "text": [
      "HOME AND KITCHEN I         | lr: 0.48919\n"
     ]
    },
    {
     "name": "stderr",
     "output_type": "stream",
     "text": [
      "Performing validation:  52%|█████▏    | 17/33 [02:25<01:54,  7.13s/it]"
     ]
    },
    {
     "name": "stdout",
     "output_type": "stream",
     "text": [
      "HOME AND KITCHEN II        | lr: 0.46280\n"
     ]
    },
    {
     "name": "stderr",
     "output_type": "stream",
     "text": [
      "Performing validation:  55%|█████▍    | 18/33 [02:36<02:03,  8.25s/it]"
     ]
    },
    {
     "name": "stdout",
     "output_type": "stream",
     "text": [
      "HOME APPLIANCES            | lr: 0.30068\n"
     ]
    },
    {
     "name": "stderr",
     "output_type": "stream",
     "text": [
      "Performing validation:  58%|█████▊    | 19/33 [02:45<01:58,  8.44s/it]"
     ]
    },
    {
     "name": "stdout",
     "output_type": "stream",
     "text": [
      "HOME CARE                  | lr: 0.36041\n"
     ]
    },
    {
     "name": "stderr",
     "output_type": "stream",
     "text": [
      "Performing validation:  61%|██████    | 20/33 [02:52<01:43,  8.00s/it]"
     ]
    },
    {
     "name": "stdout",
     "output_type": "stream",
     "text": [
      "LADIESWEAR                 | lr: 0.49317\n"
     ]
    },
    {
     "name": "stderr",
     "output_type": "stream",
     "text": [
      "Performing validation:  64%|██████▎   | 21/33 [02:58<01:29,  7.50s/it]"
     ]
    },
    {
     "name": "stdout",
     "output_type": "stream",
     "text": [
      "LAWN AND GARDEN            | lr: 0.44101\n"
     ]
    },
    {
     "name": "stderr",
     "output_type": "stream",
     "text": [
      "Performing validation:  67%|██████▋   | 22/33 [03:06<01:21,  7.40s/it]"
     ]
    },
    {
     "name": "stdout",
     "output_type": "stream",
     "text": [
      "LINGERIE                   | lr: 0.61907\n"
     ]
    },
    {
     "name": "stderr",
     "output_type": "stream",
     "text": [
      "Performing validation:  70%|██████▉   | 23/33 [03:12<01:12,  7.21s/it]"
     ]
    },
    {
     "name": "stdout",
     "output_type": "stream",
     "text": [
      "LIQUOR,WINE,BEER           | lr: 0.66767\n"
     ]
    },
    {
     "name": "stderr",
     "output_type": "stream",
     "text": [
      "Performing validation:  73%|███████▎  | 24/33 [03:21<01:09,  7.69s/it]"
     ]
    },
    {
     "name": "stdout",
     "output_type": "stream",
     "text": [
      "MAGAZINES                  | lr: 0.50634\n"
     ]
    },
    {
     "name": "stderr",
     "output_type": "stream",
     "text": [
      "Performing validation:  76%|███████▌  | 25/33 [03:27<00:56,  7.11s/it]"
     ]
    },
    {
     "name": "stdout",
     "output_type": "stream",
     "text": [
      "MEATS                      | lr: 0.22312\n"
     ]
    },
    {
     "name": "stderr",
     "output_type": "stream",
     "text": [
      "Performing validation:  79%|███████▉  | 26/33 [03:31<00:44,  6.32s/it]"
     ]
    },
    {
     "name": "stdout",
     "output_type": "stream",
     "text": [
      "PERSONAL CARE              | lr: 0.27084\n"
     ]
    },
    {
     "name": "stderr",
     "output_type": "stream",
     "text": [
      "Performing validation:  82%|████████▏ | 27/33 [03:35<00:33,  5.63s/it]"
     ]
    },
    {
     "name": "stdout",
     "output_type": "stream",
     "text": [
      "PET SUPPLIES               | lr: 0.45526\n"
     ]
    },
    {
     "name": "stderr",
     "output_type": "stream",
     "text": [
      "Performing validation:  85%|████████▍ | 28/33 [03:40<00:26,  5.22s/it]"
     ]
    },
    {
     "name": "stdout",
     "output_type": "stream",
     "text": [
      "PLAYERS AND ELECTRONICS    | lr: 0.45459\n"
     ]
    },
    {
     "name": "stderr",
     "output_type": "stream",
     "text": [
      "Performing validation:  88%|████████▊ | 29/33 [03:44<00:19,  5.00s/it]"
     ]
    },
    {
     "name": "stdout",
     "output_type": "stream",
     "text": [
      "POULTRY                    | lr: 0.20985\n"
     ]
    },
    {
     "name": "stderr",
     "output_type": "stream",
     "text": [
      "Performing validation:  91%|█████████ | 30/33 [03:48<00:14,  4.69s/it]"
     ]
    },
    {
     "name": "stdout",
     "output_type": "stream",
     "text": [
      "PREPARED FOODS             | lr: 0.26746\n"
     ]
    },
    {
     "name": "stderr",
     "output_type": "stream",
     "text": [
      "Performing validation:  94%|█████████▍| 31/33 [03:52<00:08,  4.48s/it]"
     ]
    },
    {
     "name": "stdout",
     "output_type": "stream",
     "text": [
      "PRODUCE                    | lr: 0.35962\n"
     ]
    },
    {
     "name": "stderr",
     "output_type": "stream",
     "text": [
      "Performing validation:  97%|█████████▋| 32/33 [03:56<00:04,  4.38s/it]"
     ]
    },
    {
     "name": "stdout",
     "output_type": "stream",
     "text": [
      "SCHOOL AND OFFICE SUPPLIES | lr: 0.67460\n"
     ]
    },
    {
     "name": "stderr",
     "output_type": "stream",
     "text": [
      "Performing validation: 100%|██████████| 33/33 [04:00<00:00,  7.30s/it]"
     ]
    },
    {
     "name": "stdout",
     "output_type": "stream",
     "text": [
      "SEAFOOD                    | lr: 0.45124\n",
      "Average RMSLE | lr: 0.37671\n"
     ]
    },
    {
     "name": "stderr",
     "output_type": "stream",
     "text": [
      "\n"
     ]
    },
    {
     "ename": "",
     "evalue": "",
     "output_type": "error",
     "traceback": [
      "\u001b[1;31mThe Kernel crashed while executing code in the current cell or a previous cell. \n",
      "\u001b[1;31mPlease review the code in the cell(s) to identify a possible cause of the failure. \n",
      "\u001b[1;31mClick <a href='https://aka.ms/vscodeJupyterKernelCrash'>here</a> for more info. \n",
      "\u001b[1;31mView Jupyter <a href='command:jupyter.viewOutput'>log</a> for further details."
     ]
    }
   ],
   "source": [
    "BASE_CONFIG = {\n",
    "    \"random_state\": 0,\n",
    "    \n",
    "    # the number of lag values of the target series\n",
    "    \"lags\": 63,\n",
    "    \n",
    "    # the number of lag values of the past covariates\n",
    "    \"lags_past_covariates\": list(range(-16, -23, -1)),\n",
    "    \n",
    "    # the number of (past, future-1) lag values of the future covariates\n",
    "    \"lags_future_covariates\": (14, 1),\n",
    "    \n",
    "    # the number of days ahead that the model is forecasting given today's input data\n",
    "    \"output_chunk_length\": 1,\n",
    "}\n",
    "\n",
    "trainer.train([\"lr\"], [BASE_CONFIG], drop_before=\"2015-01-01\")"
   ]
  }
 ],
 "metadata": {
  "kernelspec": {
   "display_name": "Python 3",
   "language": "python",
   "name": "python3"
  },
  "language_info": {
   "codemirror_mode": {
    "name": "ipython",
    "version": 3
   },
   "file_extension": ".py",
   "mimetype": "text/x-python",
   "name": "python",
   "nbconvert_exporter": "python",
   "pygments_lexer": "ipython3",
   "version": "3.10.11"
  }
 },
 "nbformat": 4,
 "nbformat_minor": 2
}
